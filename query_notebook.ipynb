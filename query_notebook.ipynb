{
 "cells": [
  {
   "cell_type": "code",
   "execution_count": null,
   "source": [
    "import requests\r\n",
    "import time\r\n",
    "import pandas as pd\r\n",
    "import os\r\n",
    "import json\r\n",
    "import matplotlib.pyplot as plt\r\n",
    "from formulas import map_splitter,bing_maps_query\r\n",
    "from secrets import BING_MAPS_KEY\r\n",
    "import codecs\r\n"
   ],
   "outputs": [],
   "metadata": {}
  },
  {
   "cell_type": "code",
   "execution_count": null,
   "source": [
    "pwd = os.getcwd()"
   ],
   "outputs": [],
   "metadata": {}
  },
  {
   "cell_type": "code",
   "execution_count": null,
   "source": [
    "coordinates =  pd.read_csv(pwd + \"/Square Builder.csv\")"
   ],
   "outputs": [],
   "metadata": {}
  },
  {
   "cell_type": "code",
   "execution_count": null,
   "source": [
    "pwd = os.getcwd()\r\n",
    "base_url = \"http://spatial.virtualearth.net/REST/v1/data/Microsoft/PointsOfInterest?\"\r\n",
    "sq_km = \"1\"\r\n",
    "bing_maps_key = BING_MAPS_KEY"
   ],
   "outputs": [],
   "metadata": {}
  },
  {
   "cell_type": "code",
   "execution_count": null,
   "source": [
    "upper_left = [coordinates.iloc[0, 1], coordinates.iloc[0, 2]]\r\n",
    "lower_left = [coordinates.iloc[1, 1], coordinates.iloc[1, 2]]\r\n",
    "upper_right = [coordinates.iloc[2, 1], coordinates.iloc[2, 2]]\r\n",
    "lower_right = [coordinates.iloc[3, 1], coordinates.iloc[3, 2]]"
   ],
   "outputs": [],
   "metadata": {}
  },
  {
   "cell_type": "code",
   "execution_count": null,
   "source": [
    "query_points = map_splitter(upper_left, upper_right, lower_right)"
   ],
   "outputs": [],
   "metadata": {}
  },
  {
   "cell_type": "code",
   "execution_count": null,
   "source": [
    "query_points"
   ],
   "outputs": [],
   "metadata": {}
  },
  {
   "cell_type": "code",
   "execution_count": null,
   "source": [
    "x = [z[0] for z in query_points]\r\n",
    "y = [a[1] for a in query_points]"
   ],
   "outputs": [],
   "metadata": {}
  },
  {
   "cell_type": "code",
   "execution_count": null,
   "source": [
    "plt.scatter(x,y)"
   ],
   "outputs": [],
   "metadata": {}
  },
  {
   "cell_type": "code",
   "execution_count": null,
   "source": [
    "entity_input = str(8211)\r\n",
    "counter = 0\r\n",
    "for i in query_points:\r\n",
    "    to_save = bing_maps_query(i[0], i[1], 1, entity_input, bing_maps_key, base_url)\r\n",
    "    print(i[0])\r\n",
    "    print(i[1])\r\n",
    "\r\n",
    "    with open(pwd + f\"/{str(counter)}.txt\", 'w') as outfile:\r\n",
    "        json.dump(to_save, outfile) # Save to make sure that I don't lose data\r\n",
    "\r\n",
    "    counter += 1"
   ],
   "outputs": [],
   "metadata": {}
  },
  {
   "cell_type": "code",
   "execution_count": null,
   "source": [
    "with open(pwd + \"/7.txt\") as f:\r\n",
    "    json_data = json.load(f)\r\n",
    "    data = json_data.get(\"d\").get(\"results\")"
   ],
   "outputs": [],
   "metadata": {}
  },
  {
   "cell_type": "code",
   "execution_count": null,
   "source": [
    "pd.DataFrame(data)"
   ],
   "outputs": [],
   "metadata": {}
  }
 ],
 "metadata": {
  "orig_nbformat": 4,
  "language_info": {
   "name": "python",
   "version": "3.8.8",
   "mimetype": "text/x-python",
   "codemirror_mode": {
    "name": "ipython",
    "version": 3
   },
   "pygments_lexer": "ipython3",
   "nbconvert_exporter": "python",
   "file_extension": ".py"
  },
  "kernelspec": {
   "name": "python3",
   "display_name": "Python 3.8.8 64-bit ('base': conda)"
  },
  "interpreter": {
   "hash": "770021e68aae5e5bc49f7a3b6edb919a4a251fef8e7696fd47196c25263b13c4"
  }
 },
 "nbformat": 4,
 "nbformat_minor": 2
}